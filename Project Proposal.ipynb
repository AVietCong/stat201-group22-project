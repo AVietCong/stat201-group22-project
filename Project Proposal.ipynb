{
 "cells": [
  {
   "cell_type": "code",
   "execution_count": 1,
   "id": "86db53bf-1aff-4634-9a03-ab0473476111",
   "metadata": {},
   "outputs": [],
   "source": [
    "library(infer)\n",
    "library(repr)\n",
    "library(readr)\n",
    "library(utils)"
   ]
  },
  {
   "cell_type": "code",
   "execution_count": null,
   "id": "f59a13f7-af73-4fb8-b71f-87c39c001e62",
   "metadata": {},
   "outputs": [],
   "source": []
  }
 ],
 "metadata": {
  "kernelspec": {
   "display_name": "R",
   "language": "R",
   "name": "ir"
  },
  "language_info": {
   "codemirror_mode": "r",
   "file_extension": ".r",
   "mimetype": "text/x-r-source",
   "name": "R",
   "pygments_lexer": "r",
   "version": "4.1.3"
  }
 },
 "nbformat": 4,
 "nbformat_minor": 5
}
