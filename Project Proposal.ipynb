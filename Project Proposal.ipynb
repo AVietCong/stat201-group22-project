{
 "cells": [
  {
   "cell_type": "code",
   "execution_count": 3,
   "id": "86db53bf-1aff-4634-9a03-ab0473476111",
   "metadata": {},
   "outputs": [
    {
     "name": "stderr",
     "output_type": "stream",
     "text": [
      "── \u001b[1mAttaching packages\u001b[22m ─────────────────────────────────────── tidyverse 1.3.2 ──\n",
      "\u001b[32m✔\u001b[39m \u001b[34mggplot2\u001b[39m 3.3.6      \u001b[32m✔\u001b[39m \u001b[34mdplyr  \u001b[39m 1.0.10\n",
      "\u001b[32m✔\u001b[39m \u001b[34mtibble \u001b[39m 3.1.8      \u001b[32m✔\u001b[39m \u001b[34mstringr\u001b[39m 1.4.1 \n",
      "\u001b[32m✔\u001b[39m \u001b[34mtidyr  \u001b[39m 1.2.1      \u001b[32m✔\u001b[39m \u001b[34mforcats\u001b[39m 0.5.2 \n",
      "\u001b[32m✔\u001b[39m \u001b[34mpurrr  \u001b[39m 0.3.4      \n",
      "── \u001b[1mConflicts\u001b[22m ────────────────────────────────────────── tidyverse_conflicts() ──\n",
      "\u001b[31m✖\u001b[39m \u001b[34mdplyr\u001b[39m::\u001b[32mfilter()\u001b[39m masks \u001b[34mstats\u001b[39m::filter()\n",
      "\u001b[31m✖\u001b[39m \u001b[34mdplyr\u001b[39m::\u001b[32mlag()\u001b[39m    masks \u001b[34mstats\u001b[39m::lag()\n"
     ]
    }
   ],
   "source": [
    "library(infer)\n",
    "library(repr)\n",
    "library(readr)\n",
    "library(tidyverse)"
   ]
  },
  {
   "cell_type": "code",
   "execution_count": 8,
   "id": "21699f36-fbea-4595-9137-1a22e53dd688",
   "metadata": {},
   "outputs": [
    {
     "name": "stderr",
     "output_type": "stream",
     "text": [
      "\u001b[1m\u001b[22mNew names:\n",
      "\u001b[36m•\u001b[39m `contentType:file}` -> `contentType:file}...4`\n",
      "\u001b[36m•\u001b[39m `contentType:file}` -> `contentType:file}...7`\n",
      "\u001b[36m•\u001b[39m `contentType:file}` -> `contentType:file}...10`\n",
      "\u001b[36m•\u001b[39m `contentType:file}` -> `contentType:file}...13`\n",
      "\u001b[36m•\u001b[39m `contentType:file}` -> `contentType:file}...16`\n",
      "\u001b[36m•\u001b[39m `path:adult.csv` -> `path:adult.csv...18`\n",
      "\u001b[36m•\u001b[39m `contentType:file}` -> `contentType:file}...19`\n",
      "\u001b[36m•\u001b[39m `contentType:file}` -> `contentType:file}...22`\n",
      "\u001b[36m•\u001b[39m `contentType:file}` -> `contentType:file}...25`\n",
      "\u001b[36m•\u001b[39m `contentType:file}` -> `contentType:file}...28`\n",
      "\u001b[36m•\u001b[39m `path:adult.csv` -> `path:adult.csv...53`\n",
      "\u001b[1mRows: \u001b[22m\u001b[34m0\u001b[39m \u001b[1mColumns: \u001b[22m\u001b[34m132\u001b[39m\n",
      "\u001b[36m──\u001b[39m \u001b[1mColumn specification\u001b[22m \u001b[36m────────────────────────────────────────────────────────\u001b[39m\n",
      "\u001b[1mDelimiter:\u001b[22m \",\"\n",
      "\u001b[31mchr\u001b[39m (132): {\"payload\":{\"allShortcutsEnabled\":false, fileTree:{\":{items:[{nam...\n",
      "\n",
      "\u001b[36mℹ\u001b[39m Use `spec()` to retrieve the full column specification for this data.\n",
      "\u001b[36mℹ\u001b[39m Specify the column types or set `show_col_types = FALSE` to quiet this message.\n",
      "Warning message in cbind(parts$left, ellip_h, parts$right, deparse.level = 0L):\n",
      "“number of rows of result is not a multiple of vector length (arg 2)”\n",
      "Warning message in cbind(parts$left, ellip_h, parts$right, deparse.level = 0L):\n",
      "“number of rows of result is not a multiple of vector length (arg 2)”\n",
      "Warning message in cbind(parts$left, ellip_h, parts$right, deparse.level = 0L):\n",
      "“number of rows of result is not a multiple of vector length (arg 2)”\n",
      "Warning message in cbind(parts$left, ellip_h, parts$right, deparse.level = 0L):\n",
      "“number of rows of result is not a multiple of vector length (arg 2)”\n"
     ]
    },
    {
     "data": {
      "text/html": [
       "<table class=\"dataframe\">\n",
       "<caption>A tibble: 0 × 132</caption>\n",
       "<thead>\n",
       "\t<tr><th scope=col>{\"payload\":{\"allShortcutsEnabled\":false</th><th scope=col>fileTree:{\":{items:[{name:.gitignore</th><th scope=col>path:.gitignore</th><th scope=col>contentType:file}...4</th><th scope=col>{\"name\":\"Index\"</th><th scope=col>path:Index</th><th scope=col>contentType:file}...7</th><th scope=col>{\"name\":\"LICENSE\"</th><th scope=col>path:LICENSE</th><th scope=col>contentType:file}...10</th><th scope=col>⋯</th><th scope=col>symbols:{timedOut:true</th><th scope=col>notAnalyzed:true</th><th scope=col>symbols:[]</th><th scope=col>error:{code:invalid_argument</th><th scope=col>msg:content required</th><th scope=col>meta:{}}}}</th><th scope=col>copilotAccessInfo:null</th><th scope=col>csrf_tokens:{/AVietCong/stat201-group22-project/branches:{post:iujeLbpXAzWOAcyHz_RYj3xH99YeuieEsTrU13uvgak1czcqMlqKPNjUkzPmt1j6EboIlCRbwOe386FbsD-ZDg}}}</th><th scope=col>title:stat201-group22-project/adult.csv at main · AVietCong/stat201-group22-project</th><th scope=col>locale:en}</th></tr>\n",
       "\t<tr><th scope=col>&lt;chr&gt;</th><th scope=col>&lt;chr&gt;</th><th scope=col>&lt;chr&gt;</th><th scope=col>&lt;chr&gt;</th><th scope=col>&lt;chr&gt;</th><th scope=col>&lt;chr&gt;</th><th scope=col>&lt;chr&gt;</th><th scope=col>&lt;chr&gt;</th><th scope=col>&lt;chr&gt;</th><th scope=col>&lt;chr&gt;</th><th scope=col>⋯</th><th scope=col>&lt;chr&gt;</th><th scope=col>&lt;chr&gt;</th><th scope=col>&lt;chr&gt;</th><th scope=col>&lt;chr&gt;</th><th scope=col>&lt;chr&gt;</th><th scope=col>&lt;chr&gt;</th><th scope=col>&lt;chr&gt;</th><th scope=col>&lt;chr&gt;</th><th scope=col>&lt;chr&gt;</th><th scope=col>&lt;chr&gt;</th></tr>\n",
       "</thead>\n",
       "<tbody>\n",
       "</tbody>\n",
       "</table>\n"
      ],
      "text/latex": [
       "A tibble: 0 × 132\n",
       "\\begin{tabular}{lllllllllllllllllllll}\n",
       " \\{\"payload\":\\{\"allShortcutsEnabled\":false & fileTree:\\{\":\\{items:{[}\\{name:.gitignore & path:.gitignore & contentType:file\\}...4 & \\{\"name\":\"Index\" & path:Index & contentType:file\\}...7 & \\{\"name\":\"LICENSE\" & path:LICENSE & contentType:file\\}...10 & ⋯ & symbols:\\{timedOut:true & notAnalyzed:true & symbols:{[}{]} & error:\\{code:invalid\\_argument & msg:content required & meta:\\{\\}\\}\\}\\} & copilotAccessInfo:null & csrf\\_tokens:\\{/AVietCong/stat201-group22-project/branches:\\{post:iujeLbpXAzWOAcyHz\\_RYj3xH99YeuieEsTrU13uvgak1czcqMlqKPNjUkzPmt1j6EboIlCRbwOe386FbsD-ZDg\\}\\}\\} & title:stat201-group22-project/adult.csv at main · AVietCong/stat201-group22-project & locale:en\\}\\\\\n",
       " <chr> & <chr> & <chr> & <chr> & <chr> & <chr> & <chr> & <chr> & <chr> & <chr> & ⋯ & <chr> & <chr> & <chr> & <chr> & <chr> & <chr> & <chr> & <chr> & <chr> & <chr>\\\\\n",
       "\\hline\n",
       "\\end{tabular}\n"
      ],
      "text/markdown": [
       "\n",
       "A tibble: 0 × 132\n",
       "\n",
       "| {\"payload\":{\"allShortcutsEnabled\":false &lt;chr&gt; | fileTree:{\":{items:[{name:.gitignore &lt;chr&gt; | path:.gitignore &lt;chr&gt; | contentType:file}...4 &lt;chr&gt; | {\"name\":\"Index\" &lt;chr&gt; | path:Index &lt;chr&gt; | contentType:file}...7 &lt;chr&gt; | {\"name\":\"LICENSE\" &lt;chr&gt; | path:LICENSE &lt;chr&gt; | contentType:file}...10 &lt;chr&gt; | ⋯ ⋯ | symbols:{timedOut:true &lt;chr&gt; | notAnalyzed:true &lt;chr&gt; | symbols:[] &lt;chr&gt; | error:{code:invalid_argument &lt;chr&gt; | msg:content required &lt;chr&gt; | meta:{}}}} &lt;chr&gt; | copilotAccessInfo:null &lt;chr&gt; | csrf_tokens:{/AVietCong/stat201-group22-project/branches:{post:iujeLbpXAzWOAcyHz_RYj3xH99YeuieEsTrU13uvgak1czcqMlqKPNjUkzPmt1j6EboIlCRbwOe386FbsD-ZDg}}} &lt;chr&gt; | title:stat201-group22-project/adult.csv at main · AVietCong/stat201-group22-project &lt;chr&gt; | locale:en} &lt;chr&gt; |\n",
       "|---|---|---|---|---|---|---|---|---|---|---|---|---|---|---|---|---|---|---|---|---|\n",
       "\n"
      ],
      "text/plain": [
       "     {\"payload\":{\"allShortcutsEnabled\":false\n",
       "     fileTree:{\":{items:[{name:.gitignore path:.gitignore contentType:file}...4\n",
       "     {\"name\":\"Index\" path:Index contentType:file}...7 {\"name\":\"LICENSE\"\n",
       "     path:LICENSE contentType:file}...10 ⋯ symbols:{timedOut:true\n",
       "     notAnalyzed:true symbols:[] error:{code:invalid_argument\n",
       "     msg:content required meta:{}}}} copilotAccessInfo:null\n",
       "     csrf_tokens:{/AVietCong/stat201-group22-project/branches:{post:iujeLbpXAzWOAcyHz_RYj3xH99YeuieEsTrU13uvgak1czcqMlqKPNjUkzPmt1j6EboIlCRbwOe386FbsD-ZDg}}}\n",
       "     title:stat201-group22-project/adult.csv at main · AVietCong/stat201-group22-project\n",
       "     locale:en}"
      ]
     },
     "metadata": {},
     "output_type": "display_data"
    }
   ],
   "source": [
    "income_data <- read_csv('https://github.com/AVietCong/stat201-group22-project/blob/main/adult.csv')\n",
    "head(income_data)"
   ]
  },
  {
   "cell_type": "code",
   "execution_count": null,
   "id": "26e4abf9-79bc-45b8-901f-3813fb5df12f",
   "metadata": {},
   "outputs": [],
   "source": []
  }
 ],
 "metadata": {
  "kernelspec": {
   "display_name": "R",
   "language": "R",
   "name": "ir"
  },
  "language_info": {
   "codemirror_mode": "r",
   "file_extension": ".r",
   "mimetype": "text/x-r-source",
   "name": "R",
   "pygments_lexer": "r",
   "version": "4.1.3"
  }
 },
 "nbformat": 4,
 "nbformat_minor": 5
}
