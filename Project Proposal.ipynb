{
 "cells": [
  {
   "cell_type": "markdown",
   "id": "809c4420-af18-43dc-8a72-28fd7b32aa78",
   "metadata": {},
   "source": [
    "# Group 22 Project Proposal - Gender Pay Gap (2013)"
   ]
  },
  {
   "cell_type": "markdown",
   "id": "003e7768-83c5-4f2c-a27b-366c8dbec285",
   "metadata": {},
   "source": [
    "### Table of Contents"
   ]
  },
  {
   "cell_type": "markdown",
   "id": "ad7048d2-f296-4274-86b7-0824d5ebd720",
   "metadata": {},
   "source": [
    "- [Introduction](#Introduction)\n",
    "- [Preliminary Results](#Preliminary-Results)\n",
    "    - [Data wrangling](#Data-wrangling)\n",
    "    - [Plotting of relevant variables](#Plotting-of-relevant-variables)\n",
    "- [Methods](#Methods)\n",
    "- [References](#References)"
   ]
  },
  {
   "cell_type": "markdown",
   "id": "cdd98250-2635-43cc-a39b-1e88c7a04c50",
   "metadata": {},
   "source": [
    "# Introduction"
   ]
  },
  {
   "cell_type": "code",
   "execution_count": null,
   "id": "05c53b7a-316a-4cc1-9103-ab2ebb59ddcc",
   "metadata": {},
   "outputs": [],
   "source": []
  },
  {
   "cell_type": "markdown",
   "id": "ccb115b8-0f39-4e18-a490-7f9cadb843f7",
   "metadata": {},
   "source": [
    "# Preliminary Results"
   ]
  },
  {
   "cell_type": "markdown",
   "id": "1b7df0e5-61b0-4529-87db-1b65ea3a02a7",
   "metadata": {},
   "source": [
    "## Data wrangling"
   ]
  },
  {
   "cell_type": "code",
   "execution_count": 2,
   "id": "86db53bf-1aff-4634-9a03-ab0473476111",
   "metadata": {},
   "outputs": [
    {
     "name": "stderr",
     "output_type": "stream",
     "text": [
      "── \u001b[1mAttaching packages\u001b[22m ─────────────────────────────────────── tidyverse 1.3.2 ──\n",
      "\u001b[32m✔\u001b[39m \u001b[34mggplot2\u001b[39m 3.3.6      \u001b[32m✔\u001b[39m \u001b[34mdplyr  \u001b[39m 1.0.10\n",
      "\u001b[32m✔\u001b[39m \u001b[34mtibble \u001b[39m 3.1.8      \u001b[32m✔\u001b[39m \u001b[34mstringr\u001b[39m 1.4.1 \n",
      "\u001b[32m✔\u001b[39m \u001b[34mtidyr  \u001b[39m 1.2.1      \u001b[32m✔\u001b[39m \u001b[34mforcats\u001b[39m 0.5.2 \n",
      "\u001b[32m✔\u001b[39m \u001b[34mpurrr  \u001b[39m 0.3.4      \n",
      "── \u001b[1mConflicts\u001b[22m ────────────────────────────────────────── tidyverse_conflicts() ──\n",
      "\u001b[31m✖\u001b[39m \u001b[34mdplyr\u001b[39m::\u001b[32mfilter()\u001b[39m masks \u001b[34mstats\u001b[39m::filter()\n",
      "\u001b[31m✖\u001b[39m \u001b[34mdplyr\u001b[39m::\u001b[32mlag()\u001b[39m    masks \u001b[34mstats\u001b[39m::lag()\n"
     ]
    }
   ],
   "source": [
    "library(infer)\n",
    "library(repr)\n",
    "library(readr)\n",
    "library(tidyverse)"
   ]
  },
  {
   "cell_type": "code",
   "execution_count": 17,
   "id": "21699f36-fbea-4595-9137-1a22e53dd688",
   "metadata": {},
   "outputs": [
    {
     "name": "stderr",
     "output_type": "stream",
     "text": [
      "\u001b[1mRows: \u001b[22m\u001b[34m53790\u001b[39m \u001b[1mColumns: \u001b[22m\u001b[34m129\u001b[39m\n",
      "\u001b[36m──\u001b[39m \u001b[1mColumn specification\u001b[22m \u001b[36m────────────────────────────────────────────────────────\u001b[39m\n",
      "\u001b[1mDelimiter:\u001b[22m \",\"\n",
      "\u001b[31mchr\u001b[39m   (1): adj_occ2name\n",
      "\u001b[32mdbl\u001b[39m (127): year, serial, numprec, gq, region, statefip, metro, metarea, coun...\n",
      "\u001b[33mlgl\u001b[39m   (1): farm\n",
      "\n",
      "\u001b[36mℹ\u001b[39m Use `spec()` to retrieve the full column specification for this data.\n",
      "\u001b[36mℹ\u001b[39m Specify the column types or set `show_col_types = FALSE` to quiet this message.\n"
     ]
    },
    {
     "data": {
      "text/html": [
       "<table class=\"dataframe\">\n",
       "<caption>A tibble: 6 × 129</caption>\n",
       "<thead>\n",
       "\t<tr><th scope=col>year</th><th scope=col>serial</th><th scope=col>numprec</th><th scope=col>gq</th><th scope=col>region</th><th scope=col>statefip</th><th scope=col>metro</th><th scope=col>metarea</th><th scope=col>county</th><th scope=col>farm</th><th scope=col>⋯</th><th scope=col>foodcare</th><th scope=col>building</th><th scope=col>sales</th><th scope=col>officeadmin</th><th scope=col>farmer</th><th scope=col>constructextractinstall</th><th scope=col>production</th><th scope=col>transport</th><th scope=col>sumadj_occ</th><th scope=col>LEHS</th></tr>\n",
       "\t<tr><th scope=col>&lt;dbl&gt;</th><th scope=col>&lt;dbl&gt;</th><th scope=col>&lt;dbl&gt;</th><th scope=col>&lt;dbl&gt;</th><th scope=col>&lt;dbl&gt;</th><th scope=col>&lt;dbl&gt;</th><th scope=col>&lt;dbl&gt;</th><th scope=col>&lt;dbl&gt;</th><th scope=col>&lt;dbl&gt;</th><th scope=col>&lt;lgl&gt;</th><th scope=col>⋯</th><th scope=col>&lt;dbl&gt;</th><th scope=col>&lt;dbl&gt;</th><th scope=col>&lt;dbl&gt;</th><th scope=col>&lt;dbl&gt;</th><th scope=col>&lt;dbl&gt;</th><th scope=col>&lt;dbl&gt;</th><th scope=col>&lt;dbl&gt;</th><th scope=col>&lt;dbl&gt;</th><th scope=col>&lt;dbl&gt;</th><th scope=col>&lt;dbl&gt;</th></tr>\n",
       "</thead>\n",
       "<tbody>\n",
       "\t<tr><td>2013</td><td> 4484</td><td>1</td><td>1</td><td>11</td><td>50</td><td>1</td><td>  NA</td><td>   NA</td><td>NA</td><td>⋯</td><td>0</td><td>0</td><td>0</td><td>0</td><td>0</td><td>0</td><td>0</td><td>0</td><td>1</td><td>1</td></tr>\n",
       "\t<tr><td>2013</td><td>21761</td><td>3</td><td>1</td><td>21</td><td>39</td><td>3</td><td>2002</td><td>   NA</td><td>NA</td><td>⋯</td><td>0</td><td>0</td><td>0</td><td>0</td><td>0</td><td>1</td><td>0</td><td>0</td><td>1</td><td>1</td></tr>\n",
       "\t<tr><td>2013</td><td> 7174</td><td>4</td><td>1</td><td>11</td><td>44</td><td>2</td><td>6483</td><td>   NA</td><td>NA</td><td>⋯</td><td>0</td><td>0</td><td>0</td><td>0</td><td>0</td><td>0</td><td>0</td><td>0</td><td>1</td><td>1</td></tr>\n",
       "\t<tr><td>2013</td><td>58428</td><td>1</td><td>1</td><td>31</td><td>12</td><td>3</td><td>4901</td><td>12009</td><td>NA</td><td>⋯</td><td>0</td><td>0</td><td>0</td><td>0</td><td>0</td><td>0</td><td>0</td><td>0</td><td>1</td><td>1</td></tr>\n",
       "\t<tr><td>2013</td><td> 2894</td><td>3</td><td>1</td><td>11</td><td>33</td><td>1</td><td>  NA</td><td>   NA</td><td>NA</td><td>⋯</td><td>0</td><td>0</td><td>0</td><td>0</td><td>0</td><td>0</td><td>0</td><td>1</td><td>1</td><td>1</td></tr>\n",
       "\t<tr><td>2013</td><td>56021</td><td>1</td><td>1</td><td>31</td><td>12</td><td>4</td><td>2900</td><td>12001</td><td>NA</td><td>⋯</td><td>0</td><td>0</td><td>0</td><td>0</td><td>0</td><td>1</td><td>0</td><td>0</td><td>1</td><td>1</td></tr>\n",
       "</tbody>\n",
       "</table>\n"
      ],
      "text/latex": [
       "A tibble: 6 × 129\n",
       "\\begin{tabular}{lllllllllllllllllllll}\n",
       " year & serial & numprec & gq & region & statefip & metro & metarea & county & farm & ⋯ & foodcare & building & sales & officeadmin & farmer & constructextractinstall & production & transport & sumadj\\_occ & LEHS\\\\\n",
       " <dbl> & <dbl> & <dbl> & <dbl> & <dbl> & <dbl> & <dbl> & <dbl> & <dbl> & <lgl> & ⋯ & <dbl> & <dbl> & <dbl> & <dbl> & <dbl> & <dbl> & <dbl> & <dbl> & <dbl> & <dbl>\\\\\n",
       "\\hline\n",
       "\t 2013 &  4484 & 1 & 1 & 11 & 50 & 1 &   NA &    NA & NA & ⋯ & 0 & 0 & 0 & 0 & 0 & 0 & 0 & 0 & 1 & 1\\\\\n",
       "\t 2013 & 21761 & 3 & 1 & 21 & 39 & 3 & 2002 &    NA & NA & ⋯ & 0 & 0 & 0 & 0 & 0 & 1 & 0 & 0 & 1 & 1\\\\\n",
       "\t 2013 &  7174 & 4 & 1 & 11 & 44 & 2 & 6483 &    NA & NA & ⋯ & 0 & 0 & 0 & 0 & 0 & 0 & 0 & 0 & 1 & 1\\\\\n",
       "\t 2013 & 58428 & 1 & 1 & 31 & 12 & 3 & 4901 & 12009 & NA & ⋯ & 0 & 0 & 0 & 0 & 0 & 0 & 0 & 0 & 1 & 1\\\\\n",
       "\t 2013 &  2894 & 3 & 1 & 11 & 33 & 1 &   NA &    NA & NA & ⋯ & 0 & 0 & 0 & 0 & 0 & 0 & 0 & 1 & 1 & 1\\\\\n",
       "\t 2013 & 56021 & 1 & 1 & 31 & 12 & 4 & 2900 & 12001 & NA & ⋯ & 0 & 0 & 0 & 0 & 0 & 1 & 0 & 0 & 1 & 1\\\\\n",
       "\\end{tabular}\n"
      ],
      "text/markdown": [
       "\n",
       "A tibble: 6 × 129\n",
       "\n",
       "| year &lt;dbl&gt; | serial &lt;dbl&gt; | numprec &lt;dbl&gt; | gq &lt;dbl&gt; | region &lt;dbl&gt; | statefip &lt;dbl&gt; | metro &lt;dbl&gt; | metarea &lt;dbl&gt; | county &lt;dbl&gt; | farm &lt;lgl&gt; | ⋯ ⋯ | foodcare &lt;dbl&gt; | building &lt;dbl&gt; | sales &lt;dbl&gt; | officeadmin &lt;dbl&gt; | farmer &lt;dbl&gt; | constructextractinstall &lt;dbl&gt; | production &lt;dbl&gt; | transport &lt;dbl&gt; | sumadj_occ &lt;dbl&gt; | LEHS &lt;dbl&gt; |\n",
       "|---|---|---|---|---|---|---|---|---|---|---|---|---|---|---|---|---|---|---|---|---|\n",
       "| 2013 |  4484 | 1 | 1 | 11 | 50 | 1 |   NA |    NA | NA | ⋯ | 0 | 0 | 0 | 0 | 0 | 0 | 0 | 0 | 1 | 1 |\n",
       "| 2013 | 21761 | 3 | 1 | 21 | 39 | 3 | 2002 |    NA | NA | ⋯ | 0 | 0 | 0 | 0 | 0 | 1 | 0 | 0 | 1 | 1 |\n",
       "| 2013 |  7174 | 4 | 1 | 11 | 44 | 2 | 6483 |    NA | NA | ⋯ | 0 | 0 | 0 | 0 | 0 | 0 | 0 | 0 | 1 | 1 |\n",
       "| 2013 | 58428 | 1 | 1 | 31 | 12 | 3 | 4901 | 12009 | NA | ⋯ | 0 | 0 | 0 | 0 | 0 | 0 | 0 | 0 | 1 | 1 |\n",
       "| 2013 |  2894 | 3 | 1 | 11 | 33 | 1 |   NA |    NA | NA | ⋯ | 0 | 0 | 0 | 0 | 0 | 0 | 0 | 1 | 1 | 1 |\n",
       "| 2013 | 56021 | 1 | 1 | 31 | 12 | 4 | 2900 | 12001 | NA | ⋯ | 0 | 0 | 0 | 0 | 0 | 1 | 0 | 0 | 1 | 1 |\n",
       "\n"
      ],
      "text/plain": [
       "  year serial numprec gq region statefip metro metarea county farm ⋯ foodcare\n",
       "1 2013  4484  1       1  11     50       1       NA       NA  NA   ⋯ 0       \n",
       "2 2013 21761  3       1  21     39       3     2002       NA  NA   ⋯ 0       \n",
       "3 2013  7174  4       1  11     44       2     6483       NA  NA   ⋯ 0       \n",
       "4 2013 58428  1       1  31     12       3     4901    12009  NA   ⋯ 0       \n",
       "5 2013  2894  3       1  11     33       1       NA       NA  NA   ⋯ 0       \n",
       "6 2013 56021  1       1  31     12       4     2900    12001  NA   ⋯ 0       \n",
       "  building sales officeadmin farmer constructextractinstall production\n",
       "1 0        0     0           0      0                       0         \n",
       "2 0        0     0           0      1                       0         \n",
       "3 0        0     0           0      0                       0         \n",
       "4 0        0     0           0      0                       0         \n",
       "5 0        0     0           0      0                       0         \n",
       "6 0        0     0           0      1                       0         \n",
       "  transport sumadj_occ LEHS\n",
       "1 0         1          1   \n",
       "2 0         1          1   \n",
       "3 0         1          1   \n",
       "4 0         1          1   \n",
       "5 1         1          1   \n",
       "6 0         1          1   "
      ]
     },
     "metadata": {},
     "output_type": "display_data"
    }
   ],
   "source": [
    "pay_data <- read_csv('https://github.com/AVietCong/stat201-group22-project/raw/main/Gender_Pay_Gap_dataset.csv')\n",
    "head(pay_data)"
   ]
  },
  {
   "cell_type": "code",
   "execution_count": 19,
   "id": "26e4abf9-79bc-45b8-901f-3813fb5df12f",
   "metadata": {},
   "outputs": [
    {
     "data": {
      "text/html": [
       "<table class=\"dataframe\">\n",
       "<caption>A tibble: 6 × 8</caption>\n",
       "<thead>\n",
       "\t<tr><th scope=col>sex</th><th scope=col>race</th><th scope=col>hrwage</th><th scope=col>incwage</th><th scope=col>sch</th><th scope=col>wkswork1</th><th scope=col>uhrswork</th><th scope=col>wkswork</th></tr>\n",
       "\t<tr><th scope=col>&lt;fct&gt;</th><th scope=col>&lt;fct&gt;</th><th scope=col>&lt;dbl&gt;</th><th scope=col>&lt;dbl&gt;</th><th scope=col>&lt;dbl&gt;</th><th scope=col>&lt;dbl&gt;</th><th scope=col>&lt;int&gt;</th><th scope=col>&lt;int&gt;</th></tr>\n",
       "</thead>\n",
       "<tbody>\n",
       "\t<tr><td>1</td><td>1</td><td>24.91259</td><td>57000</td><td>14</td><td>52</td><td>44</td><td>52</td></tr>\n",
       "\t<tr><td>1</td><td>1</td><td>31.00000</td><td>62000</td><td>13</td><td>50</td><td>40</td><td>50</td></tr>\n",
       "\t<tr><td>1</td><td>3</td><td>21.63461</td><td>45000</td><td>12</td><td>52</td><td>40</td><td>52</td></tr>\n",
       "\t<tr><td>1</td><td>1</td><td>12.82051</td><td>28000</td><td>12</td><td>52</td><td>42</td><td>52</td></tr>\n",
       "\t<tr><td>1</td><td>1</td><td>21.25000</td><td>42500</td><td>12</td><td>50</td><td>40</td><td>50</td></tr>\n",
       "\t<tr><td>1</td><td>1</td><td>21.87500</td><td>35000</td><td>11</td><td>40</td><td>40</td><td>40</td></tr>\n",
       "</tbody>\n",
       "</table>\n"
      ],
      "text/latex": [
       "A tibble: 6 × 8\n",
       "\\begin{tabular}{llllllll}\n",
       " sex & race & hrwage & incwage & sch & wkswork1 & uhrswork & wkswork\\\\\n",
       " <fct> & <fct> & <dbl> & <dbl> & <dbl> & <dbl> & <int> & <int>\\\\\n",
       "\\hline\n",
       "\t 1 & 1 & 24.91259 & 57000 & 14 & 52 & 44 & 52\\\\\n",
       "\t 1 & 1 & 31.00000 & 62000 & 13 & 50 & 40 & 50\\\\\n",
       "\t 1 & 3 & 21.63461 & 45000 & 12 & 52 & 40 & 52\\\\\n",
       "\t 1 & 1 & 12.82051 & 28000 & 12 & 52 & 42 & 52\\\\\n",
       "\t 1 & 1 & 21.25000 & 42500 & 12 & 50 & 40 & 50\\\\\n",
       "\t 1 & 1 & 21.87500 & 35000 & 11 & 40 & 40 & 40\\\\\n",
       "\\end{tabular}\n"
      ],
      "text/markdown": [
       "\n",
       "A tibble: 6 × 8\n",
       "\n",
       "| sex &lt;fct&gt; | race &lt;fct&gt; | hrwage &lt;dbl&gt; | incwage &lt;dbl&gt; | sch &lt;dbl&gt; | wkswork1 &lt;dbl&gt; | uhrswork &lt;int&gt; | wkswork &lt;int&gt; |\n",
       "|---|---|---|---|---|---|---|---|\n",
       "| 1 | 1 | 24.91259 | 57000 | 14 | 52 | 44 | 52 |\n",
       "| 1 | 1 | 31.00000 | 62000 | 13 | 50 | 40 | 50 |\n",
       "| 1 | 3 | 21.63461 | 45000 | 12 | 52 | 40 | 52 |\n",
       "| 1 | 1 | 12.82051 | 28000 | 12 | 52 | 42 | 52 |\n",
       "| 1 | 1 | 21.25000 | 42500 | 12 | 50 | 40 | 50 |\n",
       "| 1 | 1 | 21.87500 | 35000 | 11 | 40 | 40 | 40 |\n",
       "\n"
      ],
      "text/plain": [
       "  sex race hrwage   incwage sch wkswork1 uhrswork wkswork\n",
       "1 1   1    24.91259 57000   14  52       44       52     \n",
       "2 1   1    31.00000 62000   13  50       40       50     \n",
       "3 1   3    21.63461 45000   12  52       40       52     \n",
       "4 1   1    12.82051 28000   12  52       42       52     \n",
       "5 1   1    21.25000 42500   12  50       40       50     \n",
       "6 1   1    21.87500 35000   11  40       40       40     "
      ]
     },
     "metadata": {},
     "output_type": "display_data"
    }
   ],
   "source": [
    "pay_data <- select(pay_data, sex, race, hrwage, incwage, sch, wkswork1, uhrswork) %>%\n",
    "    mutate(sex = as.factor(sex),\n",
    "           race = as.factor(race),\n",
    "           hrwage = as.double(hrwage),\n",
    "           incwage = as.double(incwage),\n",
    "           sch = as.double(sch),\n",
    "           wkswork = as.integer(wkswork1),\n",
    "           uhrswork = as.integer(uhrswork))\n",
    "head(pay_data)"
   ]
  },
  {
   "cell_type": "code",
   "execution_count": 20,
   "id": "d88c2038-9606-4f70-84bf-52bf4e43fd2a",
   "metadata": {},
   "outputs": [
    {
     "data": {
      "text/html": [
       "<table class=\"dataframe\">\n",
       "<caption>A tibble: 6 × 8</caption>\n",
       "<thead>\n",
       "\t<tr><th scope=col>sex</th><th scope=col>race</th><th scope=col>hrwage</th><th scope=col>incwage</th><th scope=col>sch</th><th scope=col>wkswork1</th><th scope=col>uhrswork</th><th scope=col>wkswork</th></tr>\n",
       "\t<tr><th scope=col>&lt;fct&gt;</th><th scope=col>&lt;fct&gt;</th><th scope=col>&lt;dbl&gt;</th><th scope=col>&lt;dbl&gt;</th><th scope=col>&lt;dbl&gt;</th><th scope=col>&lt;dbl&gt;</th><th scope=col>&lt;int&gt;</th><th scope=col>&lt;int&gt;</th></tr>\n",
       "</thead>\n",
       "<tbody>\n",
       "\t<tr><td>male</td><td>White   </td><td>24.91259</td><td>57000</td><td>14</td><td>52</td><td>44</td><td>52</td></tr>\n",
       "\t<tr><td>male</td><td>White   </td><td>31.00000</td><td>62000</td><td>13</td><td>50</td><td>40</td><td>50</td></tr>\n",
       "\t<tr><td>male</td><td>Hispanic</td><td>21.63461</td><td>45000</td><td>12</td><td>52</td><td>40</td><td>52</td></tr>\n",
       "\t<tr><td>male</td><td>White   </td><td>12.82051</td><td>28000</td><td>12</td><td>52</td><td>42</td><td>52</td></tr>\n",
       "\t<tr><td>male</td><td>White   </td><td>21.25000</td><td>42500</td><td>12</td><td>50</td><td>40</td><td>50</td></tr>\n",
       "\t<tr><td>male</td><td>White   </td><td>21.87500</td><td>35000</td><td>11</td><td>40</td><td>40</td><td>40</td></tr>\n",
       "</tbody>\n",
       "</table>\n"
      ],
      "text/latex": [
       "A tibble: 6 × 8\n",
       "\\begin{tabular}{llllllll}\n",
       " sex & race & hrwage & incwage & sch & wkswork1 & uhrswork & wkswork\\\\\n",
       " <fct> & <fct> & <dbl> & <dbl> & <dbl> & <dbl> & <int> & <int>\\\\\n",
       "\\hline\n",
       "\t male & White    & 24.91259 & 57000 & 14 & 52 & 44 & 52\\\\\n",
       "\t male & White    & 31.00000 & 62000 & 13 & 50 & 40 & 50\\\\\n",
       "\t male & Hispanic & 21.63461 & 45000 & 12 & 52 & 40 & 52\\\\\n",
       "\t male & White    & 12.82051 & 28000 & 12 & 52 & 42 & 52\\\\\n",
       "\t male & White    & 21.25000 & 42500 & 12 & 50 & 40 & 50\\\\\n",
       "\t male & White    & 21.87500 & 35000 & 11 & 40 & 40 & 40\\\\\n",
       "\\end{tabular}\n"
      ],
      "text/markdown": [
       "\n",
       "A tibble: 6 × 8\n",
       "\n",
       "| sex &lt;fct&gt; | race &lt;fct&gt; | hrwage &lt;dbl&gt; | incwage &lt;dbl&gt; | sch &lt;dbl&gt; | wkswork1 &lt;dbl&gt; | uhrswork &lt;int&gt; | wkswork &lt;int&gt; |\n",
       "|---|---|---|---|---|---|---|---|\n",
       "| male | White    | 24.91259 | 57000 | 14 | 52 | 44 | 52 |\n",
       "| male | White    | 31.00000 | 62000 | 13 | 50 | 40 | 50 |\n",
       "| male | Hispanic | 21.63461 | 45000 | 12 | 52 | 40 | 52 |\n",
       "| male | White    | 12.82051 | 28000 | 12 | 52 | 42 | 52 |\n",
       "| male | White    | 21.25000 | 42500 | 12 | 50 | 40 | 50 |\n",
       "| male | White    | 21.87500 | 35000 | 11 | 40 | 40 | 40 |\n",
       "\n"
      ],
      "text/plain": [
       "  sex  race     hrwage   incwage sch wkswork1 uhrswork wkswork\n",
       "1 male White    24.91259 57000   14  52       44       52     \n",
       "2 male White    31.00000 62000   13  50       40       50     \n",
       "3 male Hispanic 21.63461 45000   12  52       40       52     \n",
       "4 male White    12.82051 28000   12  52       42       52     \n",
       "5 male White    21.25000 42500   12  50       40       50     \n",
       "6 male White    21.87500 35000   11  40       40       40     "
      ]
     },
     "metadata": {},
     "output_type": "display_data"
    }
   ],
   "source": [
    "pay_data <- pay_data %>%\n",
    "    mutate(sex = fct_recode(sex, 'male' = '1', 'female' = '2'),\n",
    "           race = fct_recode(race, 'White' = '1', 'Black' = '2', 'Hispanic' = '3', 'Other' = '4'))\n",
    "head(pay_data)"
   ]
  },
  {
   "cell_type": "markdown",
   "id": "7956bfec-0635-4e36-98ea-8e8c937ddbec",
   "metadata": {},
   "source": [
    "## Plotting of relevant variables"
   ]
  },
  {
   "cell_type": "markdown",
   "id": "56c79267-aaab-4dfa-9cd7-d1c2abe7bf0c",
   "metadata": {},
   "source": [
    "# Methods"
   ]
  },
  {
   "cell_type": "code",
   "execution_count": 1,
   "id": "9e0acb92-b8d8-4bee-a4ec-022173a5b872",
   "metadata": {},
   "outputs": [
    {
     "ename": "ERROR",
     "evalue": "Error in eval(expr, envir, enclos): object 'dfsnjsfnjsf' not found\n",
     "output_type": "error",
     "traceback": [
      "Error in eval(expr, envir, enclos): object 'dfsnjsfnjsf' not found\nTraceback:\n"
     ]
    }
   ],
   "source": [
    "dfsnjsfnjsf"
   ]
  },
  {
   "cell_type": "markdown",
   "id": "5979ce0e-7236-4749-9274-1f19e23bb1fc",
   "metadata": {},
   "source": [
    "# References"
   ]
  },
  {
   "cell_type": "code",
   "execution_count": null,
   "id": "b1821b50-b0ca-49a1-88e6-5c3f903e8ca9",
   "metadata": {},
   "outputs": [],
   "source": []
  }
 ],
 "metadata": {
  "kernelspec": {
   "display_name": "R",
   "language": "R",
   "name": "ir"
  },
  "language_info": {
   "codemirror_mode": "r",
   "file_extension": ".r",
   "mimetype": "text/x-r-source",
   "name": "R",
   "pygments_lexer": "r",
   "version": "4.1.3"
  }
 },
 "nbformat": 4,
 "nbformat_minor": 5
}
